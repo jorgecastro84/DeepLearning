{
  "metadata": {
    "kernelspec": {
      "language": "python",
      "display_name": "Python 3",
      "name": "python3"
    },
    "language_info": {
      "name": "python",
      "version": "3.7.10",
      "mimetype": "text/x-python",
      "codemirror_mode": {
        "name": "ipython",
        "version": 3
      },
      "pygments_lexer": "ipython3",
      "nbconvert_exporter": "python",
      "file_extension": ".py"
    },
    "colab": {
      "provenance": [],
      "collapsed_sections": []
    }
  },
  "nbformat_minor": 0,
  "nbformat": 4,
  "cells": [
    {
      "cell_type": "code",
      "source": [
        "import numpy as np \n",
        "import pandas as pd\n",
        "\n",
        "import os\n",
        "dir_black = os.path.join('sample_data/Suelos/Black')\n",
        "dir_Cinder = os.path.join('sample_data/Suelos/Cinder')\n",
        "dir_Laterite = os.path.join('sample_data/Suelos/Laterite')\n",
        "dir_peat = os.path.join('sample_data/Suelos/Peat')\n",
        "dir_yellow = os.path.join('sample_data/Suelos/Yellow')\n",
        "        "
      ],
      "metadata": {
        "_uuid": "8f2839f25d086af736a60e9eeb907d3b93b6e0e5",
        "_cell_guid": "b1076dfc-b9ad-4769-8c92-a6c4dae69d19",
        "_kg_hide-output": true,
        "execution": {
          "iopub.status.busy": "2021-08-05T13:58:10.998979Z",
          "iopub.execute_input": "2021-08-05T13:58:10.999337Z",
          "iopub.status.idle": "2021-08-05T13:58:11.004495Z",
          "shell.execute_reply.started": "2021-08-05T13:58:10.999304Z",
          "shell.execute_reply": "2021-08-05T13:58:11.003043Z"
        },
        "trusted": true,
        "id": "iFpTdb_YSbcb"
      },
      "execution_count": null,
      "outputs": []
    },
    {
      "cell_type": "code",
      "source": [
        "import tensorflow as tf\n",
        "from tensorflow import keras"
      ],
      "metadata": {
        "execution": {
          "iopub.status.busy": "2021-08-05T13:58:11.540349Z",
          "iopub.execute_input": "2021-08-05T13:58:11.540826Z",
          "iopub.status.idle": "2021-08-05T13:58:16.981726Z",
          "shell.execute_reply.started": "2021-08-05T13:58:11.540790Z",
          "shell.execute_reply": "2021-08-05T13:58:16.980947Z"
        },
        "trusted": true,
        "id": "fBCigULrSbcm"
      },
      "execution_count": null,
      "outputs": []
    },
    {
      "cell_type": "code",
      "source": [
        "image_size = 220\n",
        "batch_size = 10\n",
        "\n",
        "\n",
        "target_size = (image_size, image_size)\n",
        "input_shape = (image_size, image_size, 3)"
      ],
      "metadata": {
        "execution": {
          "iopub.status.busy": "2021-08-05T13:58:16.983050Z",
          "iopub.execute_input": "2021-08-05T13:58:16.983626Z",
          "iopub.status.idle": "2021-08-05T13:58:16.988108Z",
          "shell.execute_reply.started": "2021-08-05T13:58:16.983584Z",
          "shell.execute_reply": "2021-08-05T13:58:16.987528Z"
        },
        "trusted": true,
        "id": "OiCKFVTISbco"
      },
      "execution_count": null,
      "outputs": []
    },
    {
      "cell_type": "code",
      "source": [
        "from tensorflow.keras.preprocessing.image import ImageDataGenerator\n",
        "\n",
        "train_datagen = ImageDataGenerator(rescale=1/255)\n",
        "\n",
        "\n",
        "train_generator = train_datagen.flow_from_directory(\n",
        "        'sample_data/Suelos/', \n",
        "        target_size=(200, 200),\n",
        "        batch_size = batch_size,\n",
        "        classes = [ 'Black','Cinder', 'Laterite','Peat','Yellow'],\n",
        "       class_mode='categorical')"
      ],
      "metadata": {
        "execution": {
          "iopub.status.busy": "2021-08-05T13:58:16.989721Z",
          "iopub.execute_input": "2021-08-05T13:58:16.989970Z",
          "iopub.status.idle": "2021-08-05T13:58:17.109239Z",
          "shell.execute_reply.started": "2021-08-05T13:58:16.989945Z",
          "shell.execute_reply": "2021-08-05T13:58:17.108328Z"
        },
        "trusted": true,
        "id": "96aIRQpdSbco"
      },
      "execution_count": null,
      "outputs": []
    }
  ]
}